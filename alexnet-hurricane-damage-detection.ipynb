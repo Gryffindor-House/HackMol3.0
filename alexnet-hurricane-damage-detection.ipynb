{
 "cells": [
  {
   "cell_type": "code",
   "execution_count": 1,
   "id": "3cda5f45",
   "metadata": {
    "execution": {
     "iopub.execute_input": "2022-02-26T19:40:15.887084Z",
     "iopub.status.busy": "2022-02-26T19:40:15.886468Z",
     "iopub.status.idle": "2022-02-26T19:40:16.741569Z",
     "shell.execute_reply": "2022-02-26T19:40:16.740947Z",
     "shell.execute_reply.started": "2022-02-26T13:14:17.850528Z"
    },
    "papermill": {
     "duration": 0.881079,
     "end_time": "2022-02-26T19:40:16.741736",
     "exception": false,
     "start_time": "2022-02-26T19:40:15.860657",
     "status": "completed"
    },
    "tags": []
   },
   "outputs": [],
   "source": [
    "import pandas as pd\n",
    "import numpy as np\n",
    "import os\n",
    "from glob import glob\n",
    "import random\n",
    "import matplotlib.pylab as plt\n",
    "import seaborn as sns\n",
    "pd.set_option('display.max_colwidth', None)"
   ]
  },
  {
   "cell_type": "markdown",
   "id": "4cc6546b",
   "metadata": {
    "papermill": {
     "duration": 0.014523,
     "end_time": "2022-02-26T19:40:16.771943",
     "exception": false,
     "start_time": "2022-02-26T19:40:16.757420",
     "status": "completed"
    },
    "tags": []
   },
   "source": [
    "# Welcome here!!!"
   ]
  },
  {
   "cell_type": "markdown",
   "id": "dc50bee6",
   "metadata": {
    "papermill": {
     "duration": 0.014344,
     "end_time": "2022-02-26T19:40:16.801239",
     "exception": false,
     "start_time": "2022-02-26T19:40:16.786895",
     "status": "completed"
    },
    "tags": []
   },
   "source": [
    "**Lets get all the images from the dataset and store the paths as well as their labels**"
   ]
  },
  {
   "cell_type": "code",
   "execution_count": 2,
   "id": "2f3c5081",
   "metadata": {
    "execution": {
     "iopub.execute_input": "2022-02-26T19:40:16.834218Z",
     "iopub.status.busy": "2022-02-26T19:40:16.833328Z",
     "iopub.status.idle": "2022-02-26T19:41:06.968326Z",
     "shell.execute_reply": "2022-02-26T19:41:06.968987Z",
     "shell.execute_reply.started": "2022-02-26T13:14:18.865482Z"
    },
    "papermill": {
     "duration": 50.153161,
     "end_time": "2022-02-26T19:41:06.969193",
     "exception": false,
     "start_time": "2022-02-26T19:40:16.816032",
     "status": "completed"
    },
    "tags": []
   },
   "outputs": [],
   "source": [
    "img_paths=[]\n",
    "img_labels=[]\n",
    "for i in glob('../input/satellite-images-of-hurricane-damage/**',recursive=True):\n",
    "    if i.endswith('.jpeg'):\n",
    "        a=i.split('/')\n",
    "        img_paths.append(i)\n",
    "        img_labels.append(a[-2])"
   ]
  },
  {
   "cell_type": "code",
   "execution_count": 3,
   "id": "a17a7edd",
   "metadata": {
    "execution": {
     "iopub.execute_input": "2022-02-26T19:41:07.002196Z",
     "iopub.status.busy": "2022-02-26T19:41:07.001595Z",
     "iopub.status.idle": "2022-02-26T19:41:07.007905Z",
     "shell.execute_reply": "2022-02-26T19:41:07.008422Z",
     "shell.execute_reply.started": "2022-02-26T13:15:08.697244Z"
    },
    "papermill": {
     "duration": 0.02395,
     "end_time": "2022-02-26T19:41:07.008570",
     "exception": false,
     "start_time": "2022-02-26T19:41:06.984620",
     "status": "completed"
    },
    "tags": []
   },
   "outputs": [
    {
     "data": {
      "text/plain": [
       "(23000, 23000)"
      ]
     },
     "execution_count": 3,
     "metadata": {},
     "output_type": "execute_result"
    }
   ],
   "source": [
    "len(img_paths),len(img_labels)"
   ]
  },
  {
   "cell_type": "code",
   "execution_count": 4,
   "id": "f4fe6aed",
   "metadata": {
    "execution": {
     "iopub.execute_input": "2022-02-26T19:41:07.040996Z",
     "iopub.status.busy": "2022-02-26T19:41:07.040453Z",
     "iopub.status.idle": "2022-02-26T19:41:07.044848Z",
     "shell.execute_reply": "2022-02-26T19:41:07.045349Z",
     "shell.execute_reply.started": "2022-02-26T13:15:08.706832Z"
    },
    "papermill": {
     "duration": 0.021882,
     "end_time": "2022-02-26T19:41:07.045500",
     "exception": false,
     "start_time": "2022-02-26T19:41:07.023618",
     "status": "completed"
    },
    "tags": []
   },
   "outputs": [
    {
     "name": "stdout",
     "output_type": "stream",
     "text": [
      "We got total 23000 images\n"
     ]
    }
   ],
   "source": [
    "print('We got total '+str(len(img_paths))+' images')"
   ]
  },
  {
   "cell_type": "markdown",
   "id": "b8da5243",
   "metadata": {
    "papermill": {
     "duration": 0.015103,
     "end_time": "2022-02-26T19:41:07.076386",
     "exception": false,
     "start_time": "2022-02-26T19:41:07.061283",
     "status": "completed"
    },
    "tags": []
   },
   "source": [
    "**Saving the image paths and their labels into dataframe**"
   ]
  },
  {
   "cell_type": "code",
   "execution_count": 5,
   "id": "246c4b54",
   "metadata": {
    "execution": {
     "iopub.execute_input": "2022-02-26T19:41:07.109479Z",
     "iopub.status.busy": "2022-02-26T19:41:07.108911Z",
     "iopub.status.idle": "2022-02-26T19:41:07.136184Z",
     "shell.execute_reply": "2022-02-26T19:41:07.136643Z",
     "shell.execute_reply.started": "2022-02-26T13:15:08.720555Z"
    },
    "papermill": {
     "duration": 0.045069,
     "end_time": "2022-02-26T19:41:07.136808",
     "exception": false,
     "start_time": "2022-02-26T19:41:07.091739",
     "status": "completed"
    },
    "tags": []
   },
   "outputs": [
    {
     "data": {
      "text/html": [
       "<div>\n",
       "<style scoped>\n",
       "    .dataframe tbody tr th:only-of-type {\n",
       "        vertical-align: middle;\n",
       "    }\n",
       "\n",
       "    .dataframe tbody tr th {\n",
       "        vertical-align: top;\n",
       "    }\n",
       "\n",
       "    .dataframe thead th {\n",
       "        text-align: right;\n",
       "    }\n",
       "</style>\n",
       "<table border=\"1\" class=\"dataframe\">\n",
       "  <thead>\n",
       "    <tr style=\"text-align: right;\">\n",
       "      <th></th>\n",
       "      <th>0</th>\n",
       "      <th>1</th>\n",
       "    </tr>\n",
       "  </thead>\n",
       "  <tbody>\n",
       "    <tr>\n",
       "      <th>17247</th>\n",
       "      <td>../input/satellite-images-of-hurricane-damage/test_another/damage/-95.63271800000001_29.84605.jpeg</td>\n",
       "      <td>damage</td>\n",
       "    </tr>\n",
       "    <tr>\n",
       "      <th>1216</th>\n",
       "      <td>../input/satellite-images-of-hurricane-damage/train_another/damage/-95.08227099999999_29.828746999999996.jpeg</td>\n",
       "      <td>damage</td>\n",
       "    </tr>\n",
       "    <tr>\n",
       "      <th>22567</th>\n",
       "      <td>../input/satellite-images-of-hurricane-damage/test/no_damage/-95.093926_30.085128000000005.jpeg</td>\n",
       "      <td>no_damage</td>\n",
       "    </tr>\n",
       "    <tr>\n",
       "      <th>8911</th>\n",
       "      <td>../input/satellite-images-of-hurricane-damage/train_another/no_damage/-95.630044_29.859894.jpeg</td>\n",
       "      <td>no_damage</td>\n",
       "    </tr>\n",
       "    <tr>\n",
       "      <th>9799</th>\n",
       "      <td>../input/satellite-images-of-hurricane-damage/train_another/no_damage/-95.669907_29.810515999999996.jpeg</td>\n",
       "      <td>no_damage</td>\n",
       "    </tr>\n",
       "  </tbody>\n",
       "</table>\n",
       "</div>"
      ],
      "text/plain": [
       "                                                                                                                   0  \\\n",
       "17247             ../input/satellite-images-of-hurricane-damage/test_another/damage/-95.63271800000001_29.84605.jpeg   \n",
       "1216   ../input/satellite-images-of-hurricane-damage/train_another/damage/-95.08227099999999_29.828746999999996.jpeg   \n",
       "22567                ../input/satellite-images-of-hurricane-damage/test/no_damage/-95.093926_30.085128000000005.jpeg   \n",
       "8911                 ../input/satellite-images-of-hurricane-damage/train_another/no_damage/-95.630044_29.859894.jpeg   \n",
       "9799        ../input/satellite-images-of-hurricane-damage/train_another/no_damage/-95.669907_29.810515999999996.jpeg   \n",
       "\n",
       "               1  \n",
       "17247     damage  \n",
       "1216      damage  \n",
       "22567  no_damage  \n",
       "8911   no_damage  \n",
       "9799   no_damage  "
      ]
     },
     "execution_count": 5,
     "metadata": {},
     "output_type": "execute_result"
    }
   ],
   "source": [
    "img_path = pd.Series(img_paths).astype(str)\n",
    "labels=pd.Series(img_labels)\n",
    "data = pd.concat([img_path,labels],axis=1)\n",
    "data.sample(5)"
   ]
  },
  {
   "cell_type": "code",
   "execution_count": 6,
   "id": "e608ad1a",
   "metadata": {
    "execution": {
     "iopub.execute_input": "2022-02-26T19:41:07.169900Z",
     "iopub.status.busy": "2022-02-26T19:41:07.169350Z",
     "iopub.status.idle": "2022-02-26T19:41:07.346200Z",
     "shell.execute_reply": "2022-02-26T19:41:07.345697Z",
     "shell.execute_reply.started": "2022-02-26T13:15:08.759321Z"
    },
    "papermill": {
     "duration": 0.194289,
     "end_time": "2022-02-26T19:41:07.346346",
     "exception": false,
     "start_time": "2022-02-26T19:41:07.152057",
     "status": "completed"
    },
    "tags": []
   },
   "outputs": [
    {
     "data": {
      "text/plain": [
       "<AxesSubplot:xlabel='1', ylabel='count'>"
      ]
     },
     "execution_count": 6,
     "metadata": {},
     "output_type": "execute_result"
    },
    {
     "data": {
      "image/png": "[encoded data removed]",
      "text/plain": [
       "<Figure size 1080x360 with 1 Axes>"
      ]
     },
     "metadata": {
      "needs_background": "light"
     },
     "output_type": "display_data"
    }
   ],
   "source": [
    "plt.figure(figsize=(15,5))\n",
    "sns.countplot(x=data[1])"
   ]
  },
  {
   "cell_type": "markdown",
   "id": "94b0af99",
   "metadata": {
    "papermill": {
     "duration": 0.017371,
     "end_time": "2022-02-26T19:41:07.380424",
     "exception": false,
     "start_time": "2022-02-26T19:41:07.363053",
     "status": "completed"
    },
    "tags": []
   },
   "source": [
    "> It seems the number of no damage is half than actual damage image."
   ]
  },
  {
   "cell_type": "code",
   "execution_count": 7,
   "id": "fcd1b96c",
   "metadata": {
    "execution": {
     "iopub.execute_input": "2022-02-26T19:41:07.416293Z",
     "iopub.status.busy": "2022-02-26T19:41:07.415710Z",
     "iopub.status.idle": "2022-02-26T19:41:07.577648Z",
     "shell.execute_reply": "2022-02-26T19:41:07.577219Z",
     "shell.execute_reply.started": "2022-02-26T13:15:08.952775Z"
    },
    "papermill": {
     "duration": 0.180773,
     "end_time": "2022-02-26T19:41:07.577778",
     "exception": false,
     "start_time": "2022-02-26T19:41:07.397005",
     "status": "completed"
    },
    "tags": []
   },
   "outputs": [
    {
     "data": {
      "text/plain": [
       "((17250, 2), (5750, 2))"
      ]
     },
     "execution_count": 7,
     "metadata": {},
     "output_type": "execute_result"
    }
   ],
   "source": [
    "from sklearn.model_selection import train_test_split\n",
    "train_set , test_set = train_test_split(data,test_size=0.25,random_state=0)\n",
    "train_set.shape,test_set.shape"
   ]
  },
  {
   "cell_type": "markdown",
   "id": "311606cf",
   "metadata": {
    "papermill": {
     "duration": 0.016285,
     "end_time": "2022-02-26T19:41:07.610484",
     "exception": false,
     "start_time": "2022-02-26T19:41:07.594199",
     "status": "completed"
    },
    "tags": []
   },
   "source": [
    "> Splitted the dataset into training and testing sets"
   ]
  },
  {
   "cell_type": "code",
   "execution_count": 8,
   "id": "ed5f7695",
   "metadata": {
    "execution": {
     "iopub.execute_input": "2022-02-26T19:41:07.647477Z",
     "iopub.status.busy": "2022-02-26T19:41:07.646932Z",
     "iopub.status.idle": "2022-02-26T19:41:12.067652Z",
     "shell.execute_reply": "2022-02-26T19:41:12.068108Z",
     "shell.execute_reply.started": "2022-02-26T13:15:09.135607Z"
    },
    "papermill": {
     "duration": 4.441424,
     "end_time": "2022-02-26T19:41:12.068295",
     "exception": false,
     "start_time": "2022-02-26T19:41:07.626871",
     "status": "completed"
    },
    "tags": []
   },
   "outputs": [],
   "source": [
    "import tensorflow as tf\n",
    "from tensorflow.keras.preprocessing.image import ImageDataGenerator\n",
    "from tensorflow import keras"
   ]
  },
  {
   "cell_type": "code",
   "execution_count": 9,
   "id": "7d2fd2c6",
   "metadata": {
    "execution": {
     "iopub.execute_input": "2022-02-26T19:41:12.106040Z",
     "iopub.status.busy": "2022-02-26T19:41:12.105425Z",
     "iopub.status.idle": "2022-02-26T19:41:19.864829Z",
     "shell.execute_reply": "2022-02-26T19:41:19.864396Z",
     "shell.execute_reply.started": "2022-02-26T13:15:14.689821Z"
    },
    "papermill": {
     "duration": 7.778549,
     "end_time": "2022-02-26T19:41:19.864961",
     "exception": false,
     "start_time": "2022-02-26T19:41:12.086412",
     "status": "completed"
    },
    "tags": []
   },
   "outputs": [
    {
     "name": "stdout",
     "output_type": "stream",
     "text": [
      "Found 15525 validated image filenames belonging to 2 classes.\n",
      "Found 1725 validated image filenames belonging to 2 classes.\n",
      "Found 5750 validated image filenames belonging to 2 classes.\n"
     ]
    }
   ],
   "source": [
    "train_gen = ImageDataGenerator(validation_split=0.1,rotation_range=10, # rotation\n",
    "        width_shift_range=0.2, # horizontal shift\n",
    "        height_shift_range=0.2, # vertical shift\n",
    "        zoom_range=0.2, # zoom\n",
    "        horizontal_flip=True, # horizontal flip\n",
    "        brightness_range=[0.2,1.2]) # brightness)\n",
    "test_gen = ImageDataGenerator(rotation_range=10, # rotation\n",
    "        width_shift_range=0.2, # horizontal shift\n",
    "        height_shift_range=0.2, # vertical shift\n",
    "        zoom_range=0.2, # zoom\n",
    "        horizontal_flip=True, # horizontal flip\n",
    "        brightness_range=[0.2,1.2]) # brightness)\n",
    "\n",
    "train_data = train_gen.flow_from_dataframe(\n",
    "    dataframe = train_set,\n",
    "    x_col = 0,\n",
    "    y_col = 1,\n",
    "    target_size = (227,227),\n",
    "    color_mode = 'rgb',\n",
    "    class_mode = 'categorical',\n",
    "    shuffle = True,\n",
    "    subset = 'training',\n",
    "    batch_size=100,\n",
    "    seed=2020\n",
    ")\n",
    "\n",
    "val_data = train_gen.flow_from_dataframe(\n",
    "    dataframe = train_set,\n",
    "    x_col = 0,\n",
    "    y_col = 1,\n",
    "    target_size = (227,227),\n",
    "    color_mode = 'rgb',\n",
    "    class_mode = 'categorical',\n",
    "    shuffle = False,\n",
    "    subset = 'validation',\n",
    "    batch_size=100,\n",
    "    seed=2020\n",
    ")\n",
    "\n",
    "test_data = test_gen.flow_from_dataframe(\n",
    "    dataframe = test_set,\n",
    "    x_col = 0,\n",
    "    y_col = 1,\n",
    "    target_size = (227,227),\n",
    "    color_mode = 'rgb',\n",
    "    class_mode = 'categorical',\n",
    "    shuffle = False,\n",
    "    batch_size=100,\n",
    "    seed=2020\n",
    ")"
   ]
  },
  {
   "cell_type": "markdown",
   "id": "0f659065",
   "metadata": {
    "papermill": {
     "duration": 0.018213,
     "end_time": "2022-02-26T19:41:19.900615",
     "exception": false,
     "start_time": "2022-02-26T19:41:19.882402",
     "status": "completed"
    },
    "tags": []
   },
   "source": [
    "> Getting the Traininig, Validation & Testing images"
   ]
  },
  {
   "cell_type": "code",
   "execution_count": 10,
   "id": "4f58dd2e",
   "metadata": {
    "execution": {
     "iopub.execute_input": "2022-02-26T19:41:19.946347Z",
     "iopub.status.busy": "2022-02-26T19:41:19.945698Z",
     "iopub.status.idle": "2022-02-26T19:41:20.739821Z",
     "shell.execute_reply": "2022-02-26T19:41:20.739338Z",
     "shell.execute_reply.started": "2022-02-26T13:15:37.365025Z"
    },
    "papermill": {
     "duration": 0.822224,
     "end_time": "2022-02-26T19:41:20.739961",
     "exception": false,
     "start_time": "2022-02-26T19:41:19.917737",
     "status": "completed"
    },
    "tags": []
   },
   "outputs": [],
   "source": [
    "model = keras.models.Sequential([\n",
    "    keras.layers.Conv2D(filters=96, kernel_size=(11,11), strides=(4,4), activation='relu', input_shape=(227,227,3)),\n",
    "    keras.layers.BatchNormalization(),\n",
    "    keras.layers.MaxPool2D(pool_size=(3,3), strides=(2,2)),\n",
    "    keras.layers.Conv2D(filters=256, kernel_size=(5,5), strides=(1,1), activation='relu', padding=\"same\"),\n",
    "    keras.layers.BatchNormalization(),\n",
    "    keras.layers.MaxPool2D(pool_size=(3,3), strides=(2,2)),\n",
    "    keras.layers.Conv2D(filters=384, kernel_size=(3,3), strides=(1,1), activation='relu', padding=\"same\"),\n",
    "    keras.layers.BatchNormalization(),\n",
    "    keras.layers.Conv2D(filters=384, kernel_size=(3,3), strides=(1,1), activation='relu', padding=\"same\"),\n",
    "    keras.layers.BatchNormalization(),\n",
    "    keras.layers.Conv2D(filters=256, kernel_size=(3,3), strides=(1,1), activation='relu', padding=\"same\"),\n",
    "    keras.layers.BatchNormalization(),\n",
    "    keras.layers.MaxPool2D(pool_size=(3,3), strides=(2,2)),\n",
    "    keras.layers.Flatten(),\n",
    "    keras.layers.Dense(4096, activation='relu'),\n",
    "    keras.layers.Dropout(0.5),\n",
    "    keras.layers.Dense(4096, activation='relu'),\n",
    "    keras.layers.Dropout(0.5),\n",
    "    keras.layers.Dense(2, activation='sigmoid')\n",
    "])\n",
    "model.compile(\n",
    "    optimizer=tf.optimizers.Adam(lr=0.000001),\n",
    "    loss='binary_crossentropy',\n",
    "    metrics=['accuracy','Recall']\n",
    ")\n"
   ]
  },
  {
   "cell_type": "markdown",
   "id": "f9d1f821",
   "metadata": {
    "papermill": {
     "duration": 0.017585,
     "end_time": "2022-02-26T19:41:20.774517",
     "exception": false,
     "start_time": "2022-02-26T19:41:20.756932",
     "status": "completed"
    },
    "tags": []
   },
   "source": [
    "> Model creation & compilation"
   ]
  },
  {
   "cell_type": "code",
   "execution_count": 11,
   "id": "acd70b76",
   "metadata": {
    "execution": {
     "iopub.execute_input": "2022-02-26T19:41:20.815402Z",
     "iopub.status.busy": "2022-02-26T19:41:20.814308Z",
     "iopub.status.idle": "2022-02-26T19:41:20.827310Z",
     "shell.execute_reply": "2022-02-26T19:41:20.827777Z",
     "shell.execute_reply.started": "2022-02-26T13:15:38.234329Z"
    },
    "papermill": {
     "duration": 0.035608,
     "end_time": "2022-02-26T19:41:20.827946",
     "exception": false,
     "start_time": "2022-02-26T19:41:20.792338",
     "status": "completed"
    },
    "tags": []
   },
   "outputs": [
    {
     "name": "stdout",
     "output_type": "stream",
     "text": [
      "Model: \"sequential\"\n",
      "_________________________________________________________________\n",
      "Layer (type)                 Output Shape              Param #   \n",
      "=================================================================\n",
      "conv2d (Conv2D)              (None, 55, 55, 96)        34944     \n",
      "_________________________________________________________________\n",
      "batch_normalization (BatchNo (None, 55, 55, 96)        384       \n",
      "_________________________________________________________________\n",
      "max_pooling2d (MaxPooling2D) (None, 27, 27, 96)        0         \n",
      "_________________________________________________________________\n",
      "conv2d_1 (Conv2D)            (None, 27, 27, 256)       614656    \n",
      "_________________________________________________________________\n",
      "batch_normalization_1 (Batch (None, 27, 27, 256)       1024      \n",
      "_________________________________________________________________\n",
      "max_pooling2d_1 (MaxPooling2 (None, 13, 13, 256)       0         \n",
      "_________________________________________________________________\n",
      "conv2d_2 (Conv2D)            (None, 13, 13, 384)       885120    \n",
      "_________________________________________________________________\n",
      "batch_normalization_2 (Batch (None, 13, 13, 384)       1536      \n",
      "_________________________________________________________________\n",
      "conv2d_3 (Conv2D)            (None, 13, 13, 384)       1327488   \n",
      "_________________________________________________________________\n",
      "batch_normalization_3 (Batch (None, 13, 13, 384)       1536      \n",
      "_________________________________________________________________\n",
      "conv2d_4 (Conv2D)            (None, 13, 13, 256)       884992    \n",
      "_________________________________________________________________\n",
      "batch_normalization_4 (Batch (None, 13, 13, 256)       1024      \n",
      "_________________________________________________________________\n",
      "max_pooling2d_2 (MaxPooling2 (None, 6, 6, 256)         0         \n",
      "_________________________________________________________________\n",
      "flatten (Flatten)            (None, 9216)              0         \n",
      "_________________________________________________________________\n",
      "dense (Dense)                (None, 4096)              37752832  \n",
      "_________________________________________________________________\n",
      "dropout (Dropout)            (None, 4096)              0         \n",
      "_________________________________________________________________\n",
      "dense_1 (Dense)              (None, 4096)              16781312  \n",
      "_________________________________________________________________\n",
      "dropout_1 (Dropout)          (None, 4096)              0         \n",
      "_________________________________________________________________\n",
      "dense_2 (Dense)              (None, 2)                 8194      \n",
      "=================================================================\n",
      "Total params: 58,295,042\n",
      "Trainable params: 58,292,290\n",
      "Non-trainable params: 2,752\n",
      "_________________________________________________________________\n"
     ]
    }
   ],
   "source": [
    "model.summary()"
   ]
  },
  {
   "cell_type": "code",
   "execution_count": 12,
   "id": "4b19cc3a",
   "metadata": {
    "execution": {
     "iopub.execute_input": "2022-02-26T19:41:20.865916Z",
     "iopub.status.busy": "2022-02-26T19:41:20.865361Z",
     "iopub.status.idle": "2022-02-27T00:38:10.700374Z",
     "shell.execute_reply": "2022-02-27T00:38:10.700940Z",
     "shell.execute_reply.started": "2022-02-26T13:15:38.251954Z"
    },
    "papermill": {
     "duration": 17809.855927,
     "end_time": "2022-02-27T00:38:10.701236",
     "exception": false,
     "start_time": "2022-02-26T19:41:20.845309",
     "status": "completed"
    },
    "tags": []
   },
   "outputs": [
    {
     "name": "stdout",
     "output_type": "stream",
     "text": [
      "Epoch 1/15\n",
      "156/156 [==============================] - 1205s 8s/step - loss: 1.1505 - accuracy: 0.5796 - recall: 0.5718 - val_loss: 0.5999 - val_accuracy: 0.6864 - val_recall: 0.6835\n",
      "Epoch 2/15\n",
      "156/156 [==============================] - 1195s 8s/step - loss: 0.9604 - accuracy: 0.6679 - recall: 0.6393 - val_loss: 0.5319 - val_accuracy: 0.7246 - val_recall: 0.7003\n",
      "Epoch 3/15\n",
      "156/156 [==============================] - 1184s 8s/step - loss: 0.8492 - accuracy: 0.7093 - recall: 0.6791 - val_loss: 0.4911 - val_accuracy: 0.7751 - val_recall: 0.7704\n",
      "Epoch 4/15\n",
      "156/156 [==============================] - 1182s 8s/step - loss: 0.7753 - accuracy: 0.7386 - recall: 0.7045 - val_loss: 0.4795 - val_accuracy: 0.7814 - val_recall: 0.7826\n",
      "Epoch 5/15\n",
      "156/156 [==============================] - 1198s 8s/step - loss: 0.7105 - accuracy: 0.7622 - recall: 0.7319 - val_loss: 0.4589 - val_accuracy: 0.8064 - val_recall: 0.8070\n",
      "Epoch 6/15\n",
      "156/156 [==============================] - 1195s 8s/step - loss: 0.6644 - accuracy: 0.7770 - recall: 0.7554 - val_loss: 0.4029 - val_accuracy: 0.8261 - val_recall: 0.8267\n",
      "Epoch 7/15\n",
      "156/156 [==============================] - 1178s 8s/step - loss: 0.6024 - accuracy: 0.8035 - recall: 0.7742 - val_loss: 0.3864 - val_accuracy: 0.8417 - val_recall: 0.8441\n",
      "Epoch 8/15\n",
      "156/156 [==============================] - 1198s 8s/step - loss: 0.5636 - accuracy: 0.8158 - recall: 0.7924 - val_loss: 0.3759 - val_accuracy: 0.8423 - val_recall: 0.8475\n",
      "Epoch 9/15\n",
      "156/156 [==============================] - 1188s 8s/step - loss: 0.5220 - accuracy: 0.8257 - recall: 0.8046 - val_loss: 0.3581 - val_accuracy: 0.8638 - val_recall: 0.8725\n",
      "Epoch 10/15\n",
      "156/156 [==============================] - 1180s 8s/step - loss: 0.4873 - accuracy: 0.8486 - recall: 0.8249 - val_loss: 0.3292 - val_accuracy: 0.8586 - val_recall: 0.8643\n",
      "Epoch 11/15\n",
      "156/156 [==============================] - 1182s 8s/step - loss: 0.4575 - accuracy: 0.8534 - recall: 0.8340 - val_loss: 0.3274 - val_accuracy: 0.8759 - val_recall: 0.8783\n",
      "Epoch 12/15\n",
      "156/156 [==============================] - 1181s 8s/step - loss: 0.4440 - accuracy: 0.8497 - recall: 0.8358 - val_loss: 0.2969 - val_accuracy: 0.8806 - val_recall: 0.8794\n",
      "Epoch 13/15\n",
      "156/156 [==============================] - 1179s 8s/step - loss: 0.4048 - accuracy: 0.8681 - recall: 0.8494 - val_loss: 0.2951 - val_accuracy: 0.8910 - val_recall: 0.8904\n",
      "Epoch 14/15\n",
      "156/156 [==============================] - 1180s 8s/step - loss: 0.4070 - accuracy: 0.8661 - recall: 0.8528 - val_loss: 0.2750 - val_accuracy: 0.9020 - val_recall: 0.8991\n",
      "Epoch 15/15\n",
      "156/156 [==============================] - 1184s 8s/step - loss: 0.3842 - accuracy: 0.8773 - recall: 0.8615 - val_loss: 0.2650 - val_accuracy: 0.9026 - val_recall: 0.9020\n"
     ]
    }
   ],
   "source": [
    "history = model.fit(train_data,epochs=15,validation_data=val_data)"
   ]
  },
  {
   "cell_type": "markdown",
   "id": "873f008b",
   "metadata": {
    "papermill": {
     "duration": 0.546811,
     "end_time": "2022-02-27T00:38:11.796321",
     "exception": false,
     "start_time": "2022-02-27T00:38:11.249510",
     "status": "completed"
    },
    "tags": []
   },
   "source": [
    "> Model Training"
   ]
  },
  {
   "cell_type": "code",
   "execution_count": 13,
   "id": "6e4b0025",
   "metadata": {
    "execution": {
     "iopub.execute_input": "2022-02-27T00:38:12.900256Z",
     "iopub.status.busy": "2022-02-27T00:38:12.899581Z",
     "iopub.status.idle": "2022-02-27T00:38:13.086593Z",
     "shell.execute_reply": "2022-02-27T00:38:13.087090Z",
     "shell.execute_reply.started": "2022-02-26T18:16:42.129734Z"
    },
    "papermill": {
     "duration": 0.741099,
     "end_time": "2022-02-27T00:38:13.087258",
     "exception": false,
     "start_time": "2022-02-27T00:38:12.346159",
     "status": "completed"
    },
    "tags": []
   },
   "outputs": [
    {
     "data": {
      "image/png": "[encoded data removed]",
      "text/plain": [
       "<Figure size 432x288 with 1 Axes>"
      ]
     },
     "metadata": {
      "needs_background": "light"
     },
     "output_type": "display_data"
    }
   ],
   "source": [
    "import matplotlib.pyplot as plt\n",
    "#plotting the Accuracy of test and training sets\n",
    "plt.plot(history.history['accuracy'])\n",
    "plt.plot(history.history['val_accuracy'])\n",
    "plt.title('Model Accuracy')\n",
    "plt.ylabel('accuracy')\n",
    "plt.xlabel('epoch')\n",
    "plt.legend(['train', 'test'], loc='upper left')\n",
    "plt.show()"
   ]
  },
  {
   "cell_type": "code",
   "execution_count": 14,
   "id": "050579cb",
   "metadata": {
    "execution": {
     "iopub.execute_input": "2022-02-27T00:38:14.203399Z",
     "iopub.status.busy": "2022-02-27T00:38:14.202506Z",
     "iopub.status.idle": "2022-02-27T00:38:14.335854Z",
     "shell.execute_reply": "2022-02-27T00:38:14.336312Z",
     "shell.execute_reply.started": "2022-02-26T18:16:42.328048Z"
    },
    "papermill": {
     "duration": 0.69618,
     "end_time": "2022-02-27T00:38:14.336474",
     "exception": false,
     "start_time": "2022-02-27T00:38:13.640294",
     "status": "completed"
    },
    "tags": []
   },
   "outputs": [
    {
     "data": {
      "image/png": "[encoded data removed]",
      "text/plain": [
       "<Figure size 432x288 with 1 Axes>"
      ]
     },
     "metadata": {
      "needs_background": "light"
     },
     "output_type": "display_data"
    }
   ],
   "source": [
    "#plotting the loss of test and training sets\n",
    "plt.plot(history.history['loss'])\n",
    "plt.plot(history.history['val_loss'])\n",
    "plt.title('Model Loss')\n",
    "plt.ylabel('loss')\n",
    "plt.xlabel('epoch')\n",
    "plt.legend(['train', 'test'], loc='upper left')\n",
    "plt.show()"
   ]
  },
  {
   "cell_type": "code",
   "execution_count": 15,
   "id": "23ae95ca",
   "metadata": {
    "execution": {
     "iopub.execute_input": "2022-02-27T00:38:15.487517Z",
     "iopub.status.busy": "2022-02-27T00:38:15.486574Z",
     "iopub.status.idle": "2022-02-27T00:41:25.308684Z",
     "shell.execute_reply": "2022-02-27T00:41:25.309240Z",
     "shell.execute_reply.started": "2022-02-26T18:16:42.476649Z"
    },
    "papermill": {
     "duration": 190.40426,
     "end_time": "2022-02-27T00:41:25.309462",
     "exception": false,
     "start_time": "2022-02-27T00:38:14.905202",
     "status": "completed"
    },
    "tags": []
   },
   "outputs": [],
   "source": [
    "y_pred = model.predict(test_data)\n",
    "y_pred = np.argmax(y_pred,axis=1)"
   ]
  },
  {
   "cell_type": "code",
   "execution_count": 16,
   "id": "fb2b1f74",
   "metadata": {
    "execution": {
     "iopub.execute_input": "2022-02-27T00:41:26.427017Z",
     "iopub.status.busy": "2022-02-27T00:41:26.426366Z",
     "iopub.status.idle": "2022-02-27T00:41:26.447096Z",
     "shell.execute_reply": "2022-02-27T00:41:26.447487Z",
     "shell.execute_reply.started": "2022-02-26T18:19:49.773133Z"
    },
    "papermill": {
     "duration": 0.586348,
     "end_time": "2022-02-27T00:41:26.447652",
     "exception": false,
     "start_time": "2022-02-27T00:41:25.861304",
     "status": "completed"
    },
    "tags": []
   },
   "outputs": [
    {
     "name": "stdout",
     "output_type": "stream",
     "text": [
      "              precision    recall  f1-score   support\n",
      "\n",
      "           0       0.91      0.94      0.92      3739\n",
      "           1       0.88      0.82      0.85      2011\n",
      "\n",
      "    accuracy                           0.90      5750\n",
      "   macro avg       0.90      0.88      0.89      5750\n",
      "weighted avg       0.90      0.90      0.90      5750\n",
      "\n"
     ]
    }
   ],
   "source": [
    "from sklearn.metrics import classification_report, confusion_matrix\n",
    "print(classification_report(test_data.labels,y_pred))"
   ]
  },
  {
   "cell_type": "code",
   "execution_count": 17,
   "id": "913fca28",
   "metadata": {
    "execution": {
     "iopub.execute_input": "2022-02-27T00:41:27.563361Z",
     "iopub.status.busy": "2022-02-27T00:41:27.562729Z",
     "iopub.status.idle": "2022-02-27T00:41:27.579616Z",
     "shell.execute_reply": "2022-02-27T00:41:27.580079Z",
     "shell.execute_reply.started": "2022-02-26T18:19:49.799170Z"
    },
    "papermill": {
     "duration": 0.576236,
     "end_time": "2022-02-27T00:41:27.580247",
     "exception": false,
     "start_time": "2022-02-27T00:41:27.004011",
     "status": "completed"
    },
    "tags": []
   },
   "outputs": [],
   "source": [
    "classes=['Damage','No Damage']\n",
    "con_mat_df = pd.DataFrame(confusion_matrix(test_data.labels,y_pred),\n",
    "                     index = classes, \n",
    "                     columns = classes)"
   ]
  },
  {
   "cell_type": "code",
   "execution_count": 18,
   "id": "254825b2",
   "metadata": {
    "execution": {
     "iopub.execute_input": "2022-02-27T00:41:28.796534Z",
     "iopub.status.busy": "2022-02-27T00:41:28.795901Z",
     "iopub.status.idle": "2022-02-27T00:41:29.013310Z",
     "shell.execute_reply": "2022-02-27T00:41:29.013714Z",
     "shell.execute_reply.started": "2022-02-26T18:19:49.815661Z"
    },
    "papermill": {
     "duration": 0.790345,
     "end_time": "2022-02-27T00:41:29.013878",
     "exception": false,
     "start_time": "2022-02-27T00:41:28.223533",
     "status": "completed"
    },
    "tags": []
   },
   "outputs": [
    {
     "data": {
      "image/png": "[encoded data removed]",
      "text/plain": [
       "<Figure size 864x432 with 2 Axes>"
      ]
     },
     "metadata": {
      "needs_background": "light"
     },
     "output_type": "display_data"
    }
   ],
   "source": [
    "import seaborn as sns\n",
    "figure = plt.figure(figsize=(12, 6))\n",
    "sns.heatmap(con_mat_df, annot=True,cmap=plt.cm.cool,fmt='d')\n",
    "plt.tight_layout()\n",
    "plt.ylabel('Actual')\n",
    "plt.xlabel('Predicted')\n",
    "plt.show()"
   ]
  },
  {
   "cell_type": "code",
   "execution_count": 19,
   "id": "ada1099a",
   "metadata": {
    "execution": {
     "iopub.execute_input": "2022-02-27T00:41:30.134386Z",
     "iopub.status.busy": "2022-02-27T00:41:30.133493Z",
     "iopub.status.idle": "2022-02-27T00:41:31.462103Z",
     "shell.execute_reply": "2022-02-27T00:41:31.461610Z",
     "shell.execute_reply.started": "2022-02-26T18:21:27.346832Z"
    },
    "papermill": {
     "duration": 1.88886,
     "end_time": "2022-02-27T00:41:31.462248",
     "exception": false,
     "start_time": "2022-02-27T00:41:29.573388",
     "status": "completed"
    },
    "tags": []
   },
   "outputs": [],
   "source": [
    "model.save('initial_model.h5')"
   ]
  }
 ],
 "metadata": {
  "kernelspec": {
   "display_name": "Python 3",
   "language": "python",
   "name": "python3"
  },
  "language_info": {
   "codemirror_mode": {
    "name": "ipython",
    "version": 3
   },
   "file_extension": ".py",
   "mimetype": "text/x-python",
   "name": "python",
   "nbconvert_exporter": "python",
   "pygments_lexer": "ipython3",
   "version": "3.7.10"
  },
  "papermill": {
   "default_parameters": {},
   "duration": 18085.901765,
   "end_time": "2022-02-27T00:41:35.116529",
   "environment_variables": {},
   "exception": null,
   "input_path": "__notebook__.ipynb",
   "output_path": "__notebook__.ipynb",
   "parameters": {},
   "start_time": "2022-02-26T19:40:09.214764",
   "version": "2.3.3"
  }
 },
 "nbformat": 4,
 "nbformat_minor": 5
}
